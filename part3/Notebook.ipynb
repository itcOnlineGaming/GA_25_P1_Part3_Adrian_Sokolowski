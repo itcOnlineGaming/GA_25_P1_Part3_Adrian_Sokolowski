{
 "cells": [
  {
   "cell_type": "code",
   "execution_count": 2,
   "metadata": {},
   "outputs": [],
   "source": [
    "import pandas as pd"
   ]
  },
  {
   "cell_type": "code",
   "execution_count": 5,
   "metadata": {},
   "outputs": [
    {
     "name": "stdout",
     "output_type": "stream",
     "text": [
      "Unique Player Amount =  11081\n"
     ]
    }
   ],
   "source": [
    "data = pd.read_csv('data/player_logged_in.csv', header=None)\n",
    "# Get Unique Count of the first column in player logged in csv\n",
    "uniquePlayersAmount = data[0].nunique()\n",
    "print(\"Unique Player Amount = \", uniquePlayersAmount)\n"
   ]
  }
 ],
 "metadata": {
  "kernelspec": {
   "display_name": "Python 3",
   "language": "python",
   "name": "python3"
  },
  "language_info": {
   "codemirror_mode": {
    "name": "ipython",
    "version": 3
   },
   "file_extension": ".py",
   "mimetype": "text/x-python",
   "name": "python",
   "nbconvert_exporter": "python",
   "pygments_lexer": "ipython3",
   "version": "3.12.9"
  }
 },
 "nbformat": 4,
 "nbformat_minor": 2
}
